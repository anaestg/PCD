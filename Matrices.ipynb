{
 "cells": [
  {
   "cell_type": "markdown",
   "id": "210baa0d-0b07-440c-bfde-6b33c2036326",
   "metadata": {},
   "source": [
    "<!-- PROFILE LINK -->\n",
    "\n",
    "<h1 style = \"text-align:center; font-size: 30px\">PROGRAMACIÓN CONCURRENTE Y DISTRIBUIDA</h1>\n",
    "<a href =\"https://github.com/anaestg\">\n",
    "<img src=\"https://avatars.githubusercontent.com/u/100564768?s=400&u=6113bcf4824e38922c0cfa7ea33de2cc1833f7d1&v=4\" style=\"float:left;vertical-align:centre\" width=\"110\" height=\"110\" title = \"Ana Esteban González 22124326\">\n",
    "<a href =\"https://github.com/anaestg?tab=repositories\">\n",
    "<img src=\"https://media-exp1.licdn.com/dms/image/C4D0BAQEu_Aa76fcmPw/company-logo_200_200/0/1630998679429?e=2159024400&v=beta&t=2feC9GG7RWCWizTqsK5HzDWB1TL2DOQuAVwnMf6FFvk\" title = \"M41\" alt=\"UE\" width=\"110\" height=\"110\" style=\"float:right;vertical-align:centre\">"
   ]
  },
  {
   "cell_type": "code",
   "execution_count": 2,
   "id": "716267ca-f6f2-4b53-a8be-60f21671e58b",
   "metadata": {},
   "outputs": [],
   "source": [
    "import random # Para generar num. aleatorios en la A y B\n",
    "import multiprocessing as mp # Para trabajar en paralelo\n",
    "import time\n",
    "import math"
   ]
  },
  {
   "cell_type": "code",
   "execution_count": 3,
   "id": "6e4a1b1a-e599-4bf7-adfd-03bd635e1073",
   "metadata": {},
   "outputs": [],
   "source": [
    "def sec_mult(A,B): # f() que calcula la mult. en secuencial, como toda la vida se ha hecho\n",
    "    C = [[0] * n_col_B for i in range(n_fil_A)] # Crear y probar la matriz C = A*B\n",
    "    for i in range(n_fil_A): #Hago la multiplicación de AxB = C, i para iterar sobre las filas\n",
    "        for j in range(n_col_B): #j para iterar sobre las columnas de B\n",
    "            for k in range(n_col_A): # k para iterar en C\n",
    "                C[i][j] += A[i][k] * B[k][j] #Aquí se hace la multiplicación y guardo en C.\n",
    "    return C"
   ]
  },
  {
   "cell_type": "code",
   "execution_count": 4,
   "id": "17143ebf-3aed-42b6-bca3-12279bb18082",
   "metadata": {},
   "outputs": [],
   "source": [
    "def par_mult(A,B): #f() que prepara el reparto de trabajo para la mult. en paralelo\n",
    "    n_cores = mp.cpu_count() #Obtengo los cores de mi pc\n",
    "    size_col = math.ceil(n_col_B/n_cores) # Columnas a procesar x c/cpre, ver Excel adjunto\n",
    "    size_fil = math.ceil(n_fil_a/n_cores) #Filas a procesar x c/cpre, ver Excel adjunto\n",
    "    MC = mp.RawArray('i', n_fil_A * n_col_B) #Array MC de memoria compartida donde se almacena....\n",
    "    cores = [] #Array para guardar los cores y su trabajo\n",
    "    for core in range (n_cores): #Asigno a cada core el trabajo que le toca, ver el excel adjunto\n",
    "        i_MC = min(core * size_fil, n_fil_A) # Calculo i para marcar inicio del trabajo\n",
    "        f_MC = min((core + 1) * size_fil, n_fil_A) #Calculo fa para marcar fin del trabajo de...\n",
    "        cores.append(mp.Process(target=par_core, args=(A, B, MC, i_MC, f_MC))) # Añado el Array...\n",
    "    for core in cores:\n",
    "        core.start()# Arranco y ejecuto el trabajo para c/ uno de los cores que tenga mi equipo...\n",
    "    for core in cores:\n",
    "        core.join() # Bloqueo cualquier llamada hasta que terminen su trabajo todos los cores\n",
    "    C_2D = [[0] * n_col_B for i in range(n_fil_A)] #Convierto ela rray unidimensional MC en...\n",
    "    for i in range(n_fil_A): #i para iterar sobre las filas de A\n",
    "        for j in range(n_col_B): #j para iterar sobre las columnas de B\n",
    "            C_2D[i][j] = MC[i*n_col_B + j] #Guardo el C_\"D los datos del array MC\n",
    "    return C_2D"
   ]
  },
  {
   "cell_type": "code",
   "execution_count": 5,
   "id": "001aee5f-2a75-4475-8875-5ab65357119c",
   "metadata": {},
   "outputs": [],
   "source": [
    "def par_core(A, B, MC, i_MC, f_MC): # La tarea que hacen todos los cores\n",
    "    for i in range(i_MC, f_MC): # Size representando en colores en el excel que itera sobre las filas en A\n",
    "        for j in range(len(B[0])): #Size representando en colores en el excel que itera sobre las columnas en B\n",
    "            for k in range(len(A[0])): # n_fil_b o lo que es lo mismo el n_col_A\n",
    "                MC[i*len(B[0]) + j] += A[i][k] * B[k][j] # Guarda resultado en MC de cada core\n",
    "\n",
    "if __name__ == '__name__':\n",
    "    A = [[random.rendint(0,215) for i in range(6)] for j in range(5)] #Genero esos datos alatorios del 0...\n",
    "    B = [[random.rendint(0,215) for i in range(5)] for j in range(6)]\n",
    "    n_fil_A = len(A) #Obtengo num de filas de A\n",
    "    n_col_A = len(A[0]) #obtengo num de columnas de A\n",
    "    n_fil_B = len(B)\n",
    "    n_col_B = len(B[0])\n",
    "    if n_col_A != n_fil_B: raise Exception('Dimensiones no validas') # Compruebo que se pueden multiplicar A y B\n",
    "    inicioS = time.time()\n",
    "    sec_mult(A,B) #Ejecutamos multiplicando secuencial\n",
    "    finS = time.time()\n",
    "    par_mult(A, B) #Ejecuto multiplicacion paralela\n",
    "    finP = time.time()\n",
    "    print('\\n\\nMatriz A y B se han multiplicado con exito en SECUENCIAL ha tardado ', fins-inicioS, ' y en PARALELO ', finP-inicioP)"
   ]
  },
  {
   "cell_type": "code",
   "execution_count": null,
   "id": "49098320-42fa-4062-9ef7-641d642730a1",
   "metadata": {},
   "outputs": [],
   "source": []
  }
 ],
 "metadata": {
  "kernelspec": {
   "display_name": "Python 3 (ipykernel)",
   "language": "python",
   "name": "python3"
  },
  "language_info": {
   "codemirror_mode": {
    "name": "ipython",
    "version": 3
   },
   "file_extension": ".py",
   "mimetype": "text/x-python",
   "name": "python",
   "nbconvert_exporter": "python",
   "pygments_lexer": "ipython3",
   "version": "3.10.7"
  }
 },
 "nbformat": 4,
 "nbformat_minor": 5
}
