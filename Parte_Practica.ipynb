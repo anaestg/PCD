{
 "cells": [
  {
   "cell_type": "markdown",
   "id": "a33e657b-bccf-45cf-a483-f464e49d136b",
   "metadata": {},
   "source": [
    "<!-- PROFILE LINK -->\n",
    "\n",
    "<h1 style = \"text-align:center; font-size: 30px\">PROGRAMACIÓN CONCURRENTE Y DISTRIBUIDA</h1>\n",
    "<a href =\"https://github.com/anaestg\">\n",
    "<img src=\"https://avatars.githubusercontent.com/u/100564768?s=400&u=6113bcf4824e38922c0cfa7ea33de2cc1833f7d1&v=4\" style=\"float:left;vertical-align:centre\" width=\"110\" height=\"110\" title = \"Ana Esteban González 22124326\">\n",
    "<a href =\"https://github.com/anaestg?tab=repositories\">\n",
    "<img src=\"https://media-exp1.licdn.com/dms/image/C4D0BAQEu_Aa76fcmPw/company-logo_200_200/0/1630998679429?e=2159024400&v=beta&t=2feC9GG7RWCWizTqsK5HzDWB1TL2DOQuAVwnMf6FFvk\" title = \"M41\" alt=\"UE\" width=\"110\" height=\"110\" style=\"float:right;vertical-align:centre\">"
   ]
  },
  {
   "cell_type": "markdown",
   "id": "f8891649-7e3b-4dd4-8be6-4c491df15d84",
   "metadata": {},
   "source": [
    "# Parte Práctica Ana Esteban"
   ]
  },
  {
   "cell_type": "markdown",
   "id": "e9d943f5-0a5d-41dd-8dd3-58f82f6fc943",
   "metadata": {},
   "source": [
    "# Parte 1:"
   ]
  },
  {
   "cell_type": "code",
   "execution_count": 1,
   "id": "2a7f2ce0-5d37-44f4-a163-254e844cea63",
   "metadata": {},
   "outputs": [],
   "source": [
    "import threading, os, platform, requests, json"
   ]
  },
  {
   "cell_type": "code",
   "execution_count": 2,
   "id": "2bed2472-d9dd-42e7-8b0a-81157db4a47b",
   "metadata": {},
   "outputs": [],
   "source": [
    "numero_github = 100"
   ]
  },
  {
   "cell_type": "code",
   "execution_count": 3,
   "id": "034beb12-1c7c-495a-a8f8-e9f11298c890",
   "metadata": {},
   "outputs": [],
   "source": [
    "numero_linkedin = 50"
   ]
  },
  {
   "cell_type": "code",
   "execution_count": 4,
   "id": "ce64857d-7775-429b-9a9e-924372baef18",
   "metadata": {},
   "outputs": [],
   "source": [
    "numero_credly = 20"
   ]
  },
  {
   "cell_type": "code",
   "execution_count": 5,
   "id": "d2545311-52f1-45b8-af29-b7311dd4c32d",
   "metadata": {},
   "outputs": [],
   "source": [
    "numero_stackoverflow = 30"
   ]
  },
  {
   "cell_type": "code",
   "execution_count": 6,
   "id": "3be6969b-0957-4412-9612-d503b69e3f8d",
   "metadata": {},
   "outputs": [],
   "source": [
    "numero_cloudskillsboost = 20"
   ]
  },
  {
   "cell_type": "code",
   "execution_count": 7,
   "id": "f6b9ef09-718b-4f81-96bd-d5772bf9ced6",
   "metadata": {},
   "outputs": [],
   "source": [
    "url_=\"https://github.com/sukuzhanay\""
   ]
  },
  {
   "cell_type": "code",
   "execution_count": 8,
   "id": "2819f9c7-10b3-43d6-9898-47f912645b1c",
   "metadata": {},
   "outputs": [],
   "source": [
    "url_1=\"https://www.linkedin.com/in/sucuzhanay/\""
   ]
  },
  {
   "cell_type": "code",
   "execution_count": 9,
   "id": "8047c3f8-1ebd-42f6-ac74-9d6c3486e5f9",
   "metadata": {},
   "outputs": [],
   "source": [
    "url_2=\"https://www.credly.com/users/christian-vladimir-sucuzhanay-arevalo/badges\""
   ]
  },
  {
   "cell_type": "code",
   "execution_count": 10,
   "id": "ae61b58b-5cdd-4302-935b-29529474d127",
   "metadata": {},
   "outputs": [],
   "source": [
    "url_3=\"https://stackoverflow.com/users/6025932/christian-vladimir-sucuzhanay\""
   ]
  },
  {
   "cell_type": "code",
   "execution_count": 11,
   "id": "d787202b-b6e1-4c38-b3f7-f0b5e038b76c",
   "metadata": {},
   "outputs": [],
   "source": [
    "url_4=\"https://www.cloudskillsboost.google/public_profiles/c094dd66-f266-4f77-a808-a0601b187009\""
   ]
  },
  {
   "cell_type": "code",
   "execution_count": null,
   "id": "cb79c24a-fce8-47d4-8dc4-28ba7fbc7f11",
   "metadata": {},
   "outputs": [],
   "source": [
    "def matar_url():\n",
    "    print(requests.get(url_))\n",
    "    threading.current_thread()"
   ]
  },
  {
   "cell_type": "code",
   "execution_count": null,
   "id": "505f94b5-4f03-4cf4-abff-dc06486f4d05",
   "metadata": {},
   "outputs": [],
   "source": [
    "def matar_url_1():\n",
    "    print(requests.get(url_1))\n",
    "    threading.current_thread()"
   ]
  },
  {
   "cell_type": "code",
   "execution_count": null,
   "id": "dd42c9e0-f070-45c4-801c-35af592c6f45",
   "metadata": {},
   "outputs": [],
   "source": [
    "def matar_url_2():\n",
    "    print(requests.get(url_2))\n",
    "    threading.current_thread()"
   ]
  },
  {
   "cell_type": "code",
   "execution_count": null,
   "id": "84a3798c-a857-4f40-94a7-c1a2d462a988",
   "metadata": {},
   "outputs": [],
   "source": [
    "def matar_url_3():\n",
    "    print(requests.get(url_3))\n",
    "    threading.current_thread()"
   ]
  },
  {
   "cell_type": "code",
   "execution_count": null,
   "id": "b29bda84-804d-4b86-b1dd-dab5687caecb",
   "metadata": {},
   "outputs": [],
   "source": [
    "def matar_url_4():\n",
    "    print(requests.get(url_4))\n",
    "    threading.current_thread()"
   ]
  },
  {
   "cell_type": "code",
   "execution_count": null,
   "id": "6540a917-fce1-4159-9772-e90ca6d4b86a",
   "metadata": {},
   "outputs": [],
   "source": [
    "for i in range(numero_github):\n",
    "    threading.Thread(target = matar_url()).start()"
   ]
  },
  {
   "cell_type": "code",
   "execution_count": null,
   "id": "d0b846a7-94b0-4b48-9621-ffd2bfbc6023",
   "metadata": {},
   "outputs": [],
   "source": [
    "for i in range(numero_linkedin):\n",
    "    threading.Thread(target = matar_url_1()).start()"
   ]
  },
  {
   "cell_type": "code",
   "execution_count": null,
   "id": "6b5843b3-2873-41f9-8e32-0685deface73",
   "metadata": {},
   "outputs": [],
   "source": [
    "for i in range(numero_credly):\n",
    "    threading.Thread(target = matar_url_2()).start()"
   ]
  },
  {
   "cell_type": "code",
   "execution_count": null,
   "id": "9ea7beaa-9553-45a4-a105-c5aea5cdba8b",
   "metadata": {},
   "outputs": [],
   "source": [
    "for i in range(numero_stackoverflow):\n",
    "    threading.Thread(target = matar_url_3()).start()"
   ]
  },
  {
   "cell_type": "code",
   "execution_count": null,
   "id": "331ecf86-ef5e-4dca-b0e8-707b4e6fb118",
   "metadata": {},
   "outputs": [],
   "source": [
    "for i in range(numero_cloudskillsboost):\n",
    "    threading.Thread(target = matar_url_4()).start()"
   ]
  },
  {
   "cell_type": "markdown",
   "id": "323f43ad-add6-42ff-bf0d-1ea81c7b6332",
   "metadata": {},
   "source": [
    "# Parte 2:"
   ]
  },
  {
   "cell_type": "code",
   "execution_count": 13,
   "id": "372e36b3-d097-441e-bdd7-8303bdcc24f5",
   "metadata": {},
   "outputs": [],
   "source": [
    "numero_descarga = 5"
   ]
  },
  {
   "cell_type": "code",
   "execution_count": 14,
   "id": "a44700f8-2894-4c74-b36e-a9ccfdf1e09a",
   "metadata": {},
   "outputs": [],
   "source": [
    "re_ = requests.get(\"https://drive.google.com/uc?export=download&id=1ADxSr55eYTRSRF-44LXnKbY4n5bMWaY-\")"
   ]
  },
  {
   "cell_type": "code",
   "execution_count": null,
   "id": "8850ab1a-c814-444c-9be0-86a8fc001f8a",
   "metadata": {},
   "outputs": [],
   "source": [
    "def descargar_archivo():\n",
    "    print(re_)\n",
    "    threading.current_thread()"
   ]
  },
  {
   "cell_type": "code",
   "execution_count": null,
   "id": "88081632-3272-4b23-8741-2da8ea7c3ea8",
   "metadata": {},
   "outputs": [],
   "source": [
    "for i in range(numero_descarga):\n",
    "    threading.Thread(target = descargar_archivo()).start()"
   ]
  }
 ],
 "metadata": {
  "kernelspec": {
   "display_name": "Python 3 (ipykernel)",
   "language": "python",
   "name": "python3"
  },
  "language_info": {
   "codemirror_mode": {
    "name": "ipython",
    "version": 3
   },
   "file_extension": ".py",
   "mimetype": "text/x-python",
   "name": "python",
   "nbconvert_exporter": "python",
   "pygments_lexer": "ipython3",
   "version": "3.10.7"
  }
 },
 "nbformat": 4,
 "nbformat_minor": 5
}
