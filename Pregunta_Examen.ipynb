{
 "cells": [
  {
   "cell_type": "markdown",
   "id": "0347f27b-d324-4c58-9641-c5bb64db7252",
   "metadata": {},
   "source": [
    "<!-- PROFILE LINK -->\n",
    "\n",
    "<h1 style = \"text-align:center; font-size: 30px\">PROGRAMACIÓN CONCURRENTE Y DISTRIBUIDA</h1>\n",
    "<a href =\"https://github.com/anaestg\">\n",
    "<img src=\"https://avatars.githubusercontent.com/u/100564768?s=400&u=6113bcf4824e38922c0cfa7ea33de2cc1833f7d1&v=4\" style=\"float:left;vertical-align:centre\" width=\"110\" height=\"110\" title = \"Ana Esteban González 22124326\">\n",
    "<a href =\"https://github.com/anaestg?tab=repositories\">\n",
    "<img src=\"https://media-exp1.licdn.com/dms/image/C4D0BAQEu_Aa76fcmPw/company-logo_200_200/0/1630998679429?e=2159024400&v=beta&t=2feC9GG7RWCWizTqsK5HzDWB1TL2DOQuAVwnMf6FFvk\" title = \"M41\" alt=\"UE\" width=\"110\" height=\"110\" style=\"float:right;vertical-align:centre\">"
   ]
  },
  {
   "cell_type": "markdown",
   "id": "77ac84b9-e84f-4459-b1b7-dd5eb34646ff",
   "metadata": {},
   "source": [
    "# Posible al 100 pregunta de examen"
   ]
  },
  {
   "cell_type": "code",
   "execution_count": 3,
   "id": "8c037a76-1e1e-4a48-9fd2-81218106927a",
   "metadata": {},
   "outputs": [],
   "source": [
    "import socket as sc"
   ]
  },
  {
   "cell_type": "code",
   "execution_count": 4,
   "id": "a160ebc9-9382-421e-a4d9-e7082ec254ad",
   "metadata": {},
   "outputs": [
    {
     "data": {
      "text/plain": [
       "('LAPTOP-DFRP5EPU', [], ['192.168.107.1', '192.168.21.1', '192.168.3.57'])"
      ]
     },
     "execution_count": 4,
     "metadata": {},
     "output_type": "execute_result"
    }
   ],
   "source": [
    "sc.gethostbyname_ex(sc.gethostname())"
   ]
  },
  {
   "cell_type": "code",
   "execution_count": 5,
   "id": "b131e02e-06b5-4b63-886a-a1d8133c6b68",
   "metadata": {},
   "outputs": [
    {
     "ename": "SyntaxError",
     "evalue": "invalid syntax (482424807.py, line 1)",
     "output_type": "error",
     "traceback": [
      "\u001b[1;36m  Cell \u001b[1;32mIn [5], line 1\u001b[1;36m\u001b[0m\n\u001b[1;33m    ping 10.34.85.245\u001b[0m\n\u001b[1;37m         ^\u001b[0m\n\u001b[1;31mSyntaxError\u001b[0m\u001b[1;31m:\u001b[0m invalid syntax\n"
     ]
    }
   ],
   "source": [
    "ping 10.34.85.245"
   ]
  },
  {
   "cell_type": "code",
   "execution_count": 6,
   "id": "322952ae-c038-465f-a57c-cf349a04d67e",
   "metadata": {},
   "outputs": [],
   "source": [
    "url_ = \"www.universidadeuropea.es\""
   ]
  },
  {
   "cell_type": "code",
   "execution_count": 7,
   "id": "1ae78528-c1c9-4f68-864d-b13bc1ca2024",
   "metadata": {},
   "outputs": [],
   "source": [
    "s = sc.socket()"
   ]
  },
  {
   "cell_type": "code",
   "execution_count": null,
   "id": "20932044-7fc2-4eb4-8888-e0c9410eaf0c",
   "metadata": {},
   "outputs": [],
   "source": [
    "s.connect((\"www.universidadeuropea.es\", 45477))"
   ]
  }
 ],
 "metadata": {
  "kernelspec": {
   "display_name": "Python 3 (ipykernel)",
   "language": "python",
   "name": "python3"
  },
  "language_info": {
   "codemirror_mode": {
    "name": "ipython",
    "version": 3
   },
   "file_extension": ".py",
   "mimetype": "text/x-python",
   "name": "python",
   "nbconvert_exporter": "python",
   "pygments_lexer": "ipython3",
   "version": "3.10.7"
  }
 },
 "nbformat": 4,
 "nbformat_minor": 5
}
