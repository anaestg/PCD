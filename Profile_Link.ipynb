{
 "cells": [
  {
   "cell_type": "markdown",
   "id": "e86f7785-0359-4ff3-a801-0a27930fe2e0",
   "metadata": {},
   "source": [
    "<!-- PROFILE LINK -->\n",
    "\n",
    "<h1 style = \"text-align:center; font-size: 30px\">PROGRAMACIÓN CONCURRENTE Y DISTRIBUIDA</h1>\n",
    "<a href =\"https://github.com/anaestg\">\n",
    "<img src=\"https://avatars.githubusercontent.com/u/100564768?s=400&u=6113bcf4824e38922c0cfa7ea33de2cc1833f7d1&v=4\" style=\"float:left;vertical-align:centre\" width=\"110\" height=\"110\" title = \"Ana Esteban González 22124326\">\n",
    "<a href =\"https://github.com/anaestg?tab=repositories\">\n",
    "<img src=\"https://media-exp1.licdn.com/dms/image/C4D0BAQEu_Aa76fcmPw/company-logo_200_200/0/1630998679429?e=2159024400&v=beta&t=2feC9GG7RWCWizTqsK5HzDWB1TL2DOQuAVwnMf6FFvk\" title = \"M41\" alt=\"UE\" width=\"110\" height=\"110\" style=\"float:right;vertical-align:centre\">"
   ]
  },
  {
   "cell_type": "markdown",
   "id": "c9ddcc1b-fb98-44e0-870a-0c9e49f47a69",
   "metadata": {},
   "source": [
    "# Hands on 01"
   ]
  },
  {
   "cell_type": "markdown",
   "id": "d469de66-85d3-409c-838c-4aa1eae696ee",
   "metadata": {},
   "source": [
    "## Env. Setup, important commands."
   ]
  },
  {
   "cell_type": "code",
   "execution_count": 1,
   "id": "3a74430e-0517-4363-8af7-f5a46dc0c0e1",
   "metadata": {},
   "outputs": [
    {
     "name": "stdout",
     "output_type": "stream",
     "text": [
      " El volumen de la unidad C es Local Disk\n",
      " El n£mero de serie del volumen es: 8298-E109\n",
      "\n",
      " Directorio de C:\\Users\\anaes\\OneDrive\\Escritorio\\UEM\\Programacion Concurrente y Distribuida\\PCD\n",
      "\n",
      "\n",
      " Directorio de C:\\Users\\anaes\\OneDrive\\Escritorio\\UEM\\Programacion Concurrente y Distribuida\\PCD\n",
      "\n"
     ]
    },
    {
     "name": "stderr",
     "output_type": "stream",
     "text": [
      "No se encuentra el archivo\n"
     ]
    }
   ],
   "source": [
    "ls #List files"
   ]
  },
  {
   "cell_type": "code",
   "execution_count": 2,
   "id": "1893fdbd-6c16-4a13-a599-c30f1d0414ff",
   "metadata": {},
   "outputs": [
    {
     "data": {
      "text/plain": [
       "'C:\\\\Users\\\\anaes\\\\OneDrive\\\\Escritorio\\\\UEM\\\\Programacion Concurrente y Distribuida\\\\PCD'"
      ]
     },
     "execution_count": 2,
     "metadata": {},
     "output_type": "execute_result"
    }
   ],
   "source": [
    "pwd #Where i am"
   ]
  },
  {
   "cell_type": "code",
   "execution_count": 3,
   "id": "8dd63a9a-a01f-4149-a53c-4c2209233f76",
   "metadata": {},
   "outputs": [
    {
     "name": "stdout",
     "output_type": "stream",
     "text": [
      "On branch main\n",
      "Your branch is up to date with 'origin/main'.\n",
      "\n",
      "nothing to commit, working tree clean\n"
     ]
    }
   ],
   "source": [
    "!git status #Status info"
   ]
  },
  {
   "cell_type": "code",
   "execution_count": 4,
   "id": "18731a07-9adb-4fef-9a61-5f30ca60f9bb",
   "metadata": {},
   "outputs": [],
   "source": [
    "import os"
   ]
  },
  {
   "cell_type": "code",
   "execution_count": 5,
   "id": "b204fd05-6481-47e1-a2eb-b975ba2e246d",
   "metadata": {},
   "outputs": [
    {
     "data": {
      "text/plain": [
       "12"
      ]
     },
     "execution_count": 5,
     "metadata": {},
     "output_type": "execute_result"
    }
   ],
   "source": [
    "os.cpu_count() #Get total cores"
   ]
  },
  {
   "cell_type": "code",
   "execution_count": 6,
   "id": "964e4073-ccc1-48ad-b533-d4abdab99952",
   "metadata": {},
   "outputs": [
    {
     "data": {
      "text/plain": [
       "13188"
      ]
     },
     "execution_count": 6,
     "metadata": {},
     "output_type": "execute_result"
    }
   ],
   "source": [
    "os.getpid() #Get process id"
   ]
  },
  {
   "cell_type": "code",
   "execution_count": 7,
   "id": "b3160b7f-2497-4adc-853d-0b74284bbcd6",
   "metadata": {},
   "outputs": [],
   "source": [
    "import platform as pl"
   ]
  },
  {
   "cell_type": "code",
   "execution_count": 8,
   "id": "c1df4628-f73b-408a-99b9-cb542e970644",
   "metadata": {},
   "outputs": [
    {
     "data": {
      "text/plain": [
       "'3.10.7'"
      ]
     },
     "execution_count": 8,
     "metadata": {},
     "output_type": "execute_result"
    }
   ],
   "source": [
    "pl.python_version()"
   ]
  },
  {
   "cell_type": "code",
   "execution_count": null,
   "id": "3af39196-5f2e-4b87-ac8e-edd6f759d226",
   "metadata": {},
   "outputs": [],
   "source": []
  }
 ],
 "metadata": {
  "kernelspec": {
   "display_name": "Python 3 (ipykernel)",
   "language": "python",
   "name": "python3"
  },
  "language_info": {
   "codemirror_mode": {
    "name": "ipython",
    "version": 3
   },
   "file_extension": ".py",
   "mimetype": "text/x-python",
   "name": "python",
   "nbconvert_exporter": "python",
   "pygments_lexer": "ipython3",
   "version": "3.10.7"
  }
 },
 "nbformat": 4,
 "nbformat_minor": 5
}
