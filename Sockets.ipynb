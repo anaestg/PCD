{
 "cells": [
  {
   "cell_type": "markdown",
   "id": "8d715684-6d29-4f3d-9825-17bdb907de02",
   "metadata": {},
   "source": [
    "<!-- PROFILE LINK -->\n",
    "\n",
    "<h1 style = \"text-align:center; font-size: 30px\">PROGRAMACIÓN CONCURRENTE Y DISTRIBUIDA</h1>\n",
    "<a href =\"https://github.com/anaestg\">\n",
    "<img src=\"https://avatars.githubusercontent.com/u/100564768?s=400&u=6113bcf4824e38922c0cfa7ea33de2cc1833f7d1&v=4\" style=\"float:left;vertical-align:centre\" width=\"110\" height=\"110\" title = \"Ana Esteban González 22124326\">\n",
    "<a href =\"https://github.com/anaestg?tab=repositories\">\n",
    "<img src=\"https://media-exp1.licdn.com/dms/image/C4D0BAQEu_Aa76fcmPw/company-logo_200_200/0/1630998679429?e=2159024400&v=beta&t=2feC9GG7RWCWizTqsK5HzDWB1TL2DOQuAVwnMf6FFvk\" title = \"M41\" alt=\"UE\" width=\"110\" height=\"110\" style=\"float:right;vertical-align:centre\">"
   ]
  },
  {
   "cell_type": "code",
   "execution_count": 2,
   "id": "34698b20-5624-401f-a9e8-1450c33f1eae",
   "metadata": {},
   "outputs": [],
   "source": [
    "import socket as sc"
   ]
  },
  {
   "cell_type": "code",
   "execution_count": null,
   "id": "de302029-c132-405c-b678-967ff1c3fd76",
   "metadata": {},
   "outputs": [],
   "source": []
  }
 ],
 "metadata": {
  "kernelspec": {
   "display_name": "Python 3 (ipykernel)",
   "language": "python",
   "name": "python3"
  },
  "language_info": {
   "codemirror_mode": {
    "name": "ipython",
    "version": 3
   },
   "file_extension": ".py",
   "mimetype": "text/x-python",
   "name": "python",
   "nbconvert_exporter": "python",
   "pygments_lexer": "ipython3",
   "version": "3.10.7"
  }
 },
 "nbformat": 4,
 "nbformat_minor": 5
}
